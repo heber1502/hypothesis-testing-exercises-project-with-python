{
 "cells": [
  {
   "cell_type": "markdown",
   "id": "d9d036c6",
   "metadata": {},
   "source": [
    "# Problemas de prueba de hipótesis"
   ]
  },
  {
   "cell_type": "markdown",
   "id": "d157c4db",
   "metadata": {},
   "source": [
    "## Ejercicio 1\n",
    "\n",
    "Usted es un nutricionista que investiga dos tipos diferentes de dietas para ver si existe una diferencia significativa en la pérdida de peso después de un mes. Eliges dos grupos aleatorios de personas; un grupo sigue la primera dieta y el otro sigue la segunda. Al final del mes, se registra la pérdida de peso (en kg) de cada persona:\n",
    "\n",
    "| Diet 1 | Diet 2 |\n",
    "|:-------|:-------|\n",
    "| 2.0 | 3.0 |\n",
    "| 2.5 | 3.2 |\n",
    "| 3.0 | 3.1 |\n",
    "| 2.8 | 2.9 |\n",
    "| 2.3 | 2.8 |\n",
    "| 2.7 | 3.0 |\n",
    "| 2.5 | 3.2 |\n",
    "\n",
    "Con estos datos se busca responder a la siguiente pregunta: ¿Existe una diferencia significativa en la pérdida de peso promedio entre las personas que siguieron la primera dieta y las que siguieron la segunda dieta?\n",
    "\n",
    "Para sacar conclusiones, siga los siguientes puntos:\n",
    "\n",
    "-Enunciar la hipótesis: hipótesis nula y alternativa.\n",
    "-Realizar la prueba para comprobar la hipótesis. Puede utilizar la prueba t de Student.\n",
    "-Analizar las conclusiones."
   ]
  },
  {
   "cell_type": "code",
   "execution_count": 15,
   "id": "8e0f3cf0",
   "metadata": {},
   "outputs": [
    {
     "name": "stdout",
     "output_type": "stream",
     "text": [
      "Hipotesis Nula: No hay diferencia entre la media de pérdida de peso entre las personas que siguieron la dieta 1 y las personas que siguieron la dieta 2.\n",
      "Hipotesis Alternativa: Hay diferencia entre la media de pérdida de peso entre las personas que siguieron la dieta 1 y las personas que siguieron la dieta 2.\n",
      "t value: -3.5383\n",
      "p value: 0.0041\n",
      "\n",
      "Se rechaza la hipotesis nula, ya que hay una diferencia significativa en la perdida de peso entre las dos dietas. En este caso presenta un valor inferior al nivel de aceptacion del 5%.\n"
     ]
    }
   ],
   "source": [
    "import numpy as np \n",
    "import scipy.stats as stats \n",
    "\n",
    "# Datos de perdida de peso de las dos dietas \n",
    "\n",
    "dieta_1 = [2.0, 2.5, 3.0, 2.8, 2.3, 2.7, 2.5]\n",
    "dieta_2 = [3.0, 3.2, 3.1, 2.9, 2.8, 3.0, 3.2]\n",
    "\n",
    "# Prueba t de Student para comparar las medias, de las dos dietas.\n",
    "\n",
    "t_value, p_value = stats.ttest_ind(dieta_1, dieta_2)\n",
    "\n",
    "\n",
    "# Enunciar las hipotesis\n",
    "\n",
    "print(\"Hipotesis Nula: No hay diferencia entre la media de pérdida de peso entre las personas que siguieron la dieta 1 y las personas que siguieron la dieta 2.\")\n",
    "print(\"Hipotesis Alternativa: Hay diferencia entre la media de pérdida de peso entre las personas que siguieron la dieta 1 y las personas que siguieron la dieta 2.\")\n",
    "\n",
    "\n",
    "# Mostrar los resultados \n",
    "\n",
    "print(f't value: {t_value:.4f}')\n",
    "print(f'p value: {p_value:.4f}\\n')\n",
    "\n",
    "# Conclusiones \n",
    "\n",
    "nivel_significancia = 0.05\n",
    "\n",
    "if p_value < nivel_significancia:\n",
    "    print('Se rechaza la hipotesis nula, ya que hay una diferencia significativa en la perdida de peso entre las dos dietas. En este caso presenta un valor inferior al nivel de aceptacion del 5%.')\n",
    "\n",
    "else:\n",
    "\n",
    "    print('No se rechaza la hipótesis nula: no hay una diferencia significativa en la pérdida de peso entre las dos dietas.')\n",
    " \n",
    "\n",
    "\n"
   ]
  },
  {
   "cell_type": "markdown",
   "id": "f432e18e",
   "metadata": {},
   "source": [
    "## ANOVA\n",
    "\n",
    "**ANOVA** (*Analysis of Variance - Análisis de variación*) Es una técnica estadística utilizada para comparar las medidas de dos o más grupos. La idea detrás de ANOVA es descomponer la variabilidad total de los datos en dos componentes: variabilidad entre grupos y variabilidad dentro de los grupos:\n",
    "\n",
    "- **Variabilidad entre grupos**: Esta variabilidad se refiere a las diferencias entre las medias del grupo. Si esta variabilidad es considerablemente mayor que la variabilidad dentro del grupo, podría ser una indicación de que al menos una de las medias del grupo es diferente.\n",
    "- **Variabilidad dentro del grupo**: Esta variabilidad se refiere a la dispersión de los datos dentro de cada grupo. Si todos los grupos tienen una variabilidad similar, entonces cualquier diferencia notable en las medias de los grupos podría considerarse significativa.\n",
    "\n",
    "Las hipótesis en ANOVA suelen incluir:\n",
    "\n",
    "- **Hipótesis nula** ($H₀$): Las medias de todos los grupos son iguales.\n",
    "- **Hipótesis alternativa** ($H₁$): Al menos una de las medias del grupo es diferente.\n",
    "\n",
    "Si el resultado de la prueba ANOVA es significativo (por ejemplo, un valor p inferior a un umbral como 0,05), esto sugiere que al menos la media de un grupo es diferente."
   ]
  },
  {
   "cell_type": "markdown",
   "id": "fc5f3721",
   "metadata": {},
   "source": [
    "## Ejercicio 2\n",
    "\n",
    "Un agricultor decide probar tres tipos diferentes de fertilizantes para determinar si alguno es superior en términos de producción de maíz. El agricultor planta maíz en 15 parcelas idénticas y utiliza los tres fertilizantes (5 parcelas para cada tipo). Al final de la temporada mide el rendimiento de maíz (en kg) de cada parcela, con el siguiente resultado:\n",
    "\n",
    "| Fertilizante 1 | Fertilizante 2 | Fertilizante 3 |\n",
    "|:-------------|:-------------|:-------------|\n",
    "| 20 | 22 | 24 |\n",
    "| 21 | 21 | 23 |\n",
    "| 20 | 23 | 22 |\n",
    "| 19 | 22 | 23 |\n",
    "| 20 | 21 | 24 |\n",
    "\n",
    "Con estos datos busca responder la siguiente pregunta: ¿Existe una diferencia significativa en el rendimiento promedio del maíz entre los tres tipos de fertilizantes?\n",
    "\n",
    "Para ayudarte, sigue los siguientes puntos:\n",
    "\n",
    "-Enunciar la hipótesis: hipótesis nula y alternativa.\n",
    "-Realizar la prueba ANOVA.\n",
    "-Analizar las conclusiones.\n",
    "-Si un fertilizante es mejor que otro, ¿cómo podemos saberlo?"
   ]
  },
  {
   "cell_type": "code",
   "execution_count": 32,
   "id": "eecad0ca",
   "metadata": {},
   "outputs": [
    {
     "name": "stdout",
     "output_type": "stream",
     "text": [
      "Hipótesis nula (H0): Las medias de produccion de maíz de los tres fertilizantes son iguales.\n",
      "Hipótesis alternativa (H₁): Al menos una de las medias de produccion de maíz de los fertilizantes es diferente.\n",
      "f_value: 20.315789473684188\n",
      "p_value: 0.00014047824793190475\n",
      "Aceptamos la hipotesis alternativa(H1): hay al menos una diferencia significativa en los rendimientos de produccion de maíz, entre los fertilizantes.\n"
     ]
    }
   ],
   "source": [
    "import scipy.stats as stats \n",
    "\n",
    "# Hipotesis nula y alternativa.\n",
    "\n",
    "print('Hipótesis nula (H0): Las medias de produccion de maíz de los tres fertilizantes son iguales.')\n",
    "print('Hipótesis alternativa (H₁): Al menos una de las medias de produccion de maíz de los fertilizantes es diferente.')\n",
    "\n",
    "\n",
    "\n",
    "# Fertilizantes utilizados:\n",
    "\n",
    "fertilizante_1 = [20 , 21 , 20 , 19 , 20]\n",
    "fertilizante_2 = [22 , 21 , 23 , 22 , 21]\n",
    "fertilizante_3 = [24 , 23 , 22 , 23 , 24]\n",
    "\n",
    "# test de ANOVA \n",
    "\n",
    "f_value, p_value = stats.f_oneway(fertilizante_1, fertilizante_2, fertilizante_3)\n",
    "\n",
    "print(f'f_value: {f_value}')\n",
    "print(f'p_value: {p_value}')\n",
    "\n",
    "# Conclusión\n",
    "\n",
    "nivel_significancia = 0.05\n",
    "\n",
    "if p_value < nivel_significancia:\n",
    "    print(\"Aceptamos la hipotesis alternativa(H1): hay al menos una diferencia significativa en los rendimientos de produccion de maíz, entre los fertilizantes.\")\n",
    "else:\n",
    "    print(\"No se rechaza la hipotesis nula: no hay diferencias significativas en los rendimientos de produccion de maíz, entre los fertilizantes.\")"
   ]
  },
  {
   "cell_type": "code",
   "execution_count": null,
   "id": "cfcc4acb",
   "metadata": {},
   "outputs": [
    {
     "name": "stdout",
     "output_type": "stream",
     "text": [
      "Multiple Comparison of Means - Tukey HSD, FWER=0.05\n",
      "==================================================\n",
      "group1 group2 meandiff p-adj  lower  upper  reject\n",
      "--------------------------------------------------\n",
      "    f1     f2      1.8 0.0099 0.4572 3.1428   True\n",
      "    f1     f3      3.2 0.0001 1.8572 4.5428   True\n",
      "    f2     f3      1.4 0.0409 0.0572 2.7428   True\n",
      "--------------------------------------------------\n",
      "\tDe acuerdo a la interpretacion de la tabla, hay una diferencia significativa entre los tres grupos de fertilizantes.\n",
      "Lo sabemos ya que la columna reject arroja True, corroborando la diferencia entre las medias. Dicho esto, podemos determinar que el fertilizante 3, es la mejor elección.\n",
      "Teniendo una mayor media que los otros 2.\n"
     ]
    }
   ],
   "source": [
    "# Saber si un fertilizante es mejor que otro \n",
    "\n",
    "import numpy as np\n",
    "from statsmodels.stats.multicomp import pairwise_tukeyhsd \n",
    "\n",
    "# Enunciar las hipotesis nula y alternativa. \n",
    "\n",
    "print(\"Hipotesis Nula (H0): No hay diferencia entre la media de produccion maiz para los tres fertilizantes.\")\n",
    "print(\"Hipotesis Alternativa (H1): Hay diferencia entre la media de produccion de maiz para los tres fertilizantes.\")\n",
    "\n",
    "\n",
    "# Concatenar los datos \n",
    "\n",
    "data = np.concatenate([fertilizante_1, fertilizante_2, fertilizante_3])\n",
    "labels = ['f1']*len(fertilizante_1) + ['f2']*len(fertilizante_2) + ['f3']*len(fertilizante_3)\n",
    "\n",
    "result = pairwise_tukeyhsd(data, labels, alpha = 0.05)\n",
    "\n",
    "\n",
    "print(result)\n",
    "print('\\tDe acuerdo a la interpretacion de la tabla, hay una diferencia significativa entre los tres grupos de fertilizantes.\\nLo sabemos ya que la columna reject arroja True, corroborando la diferencia entre las medias. Dicho esto, podemos determinar que el fertilizante 3, es la mejor elección.\\nTeniendo una mayor media que los otros 2.')\n"
   ]
  }
 ],
 "metadata": {
  "kernelspec": {
   "display_name": "Python 3",
   "language": "python",
   "name": "python3"
  },
  "language_info": {
   "codemirror_mode": {
    "name": "ipython",
    "version": 3
   },
   "file_extension": ".py",
   "mimetype": "text/x-python",
   "name": "python",
   "nbconvert_exporter": "python",
   "pygments_lexer": "ipython3",
   "version": "3.11.4"
  }
 },
 "nbformat": 4,
 "nbformat_minor": 5
}
